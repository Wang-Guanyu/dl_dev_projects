{
 "cells": [
  {
   "cell_type": "markdown",
   "metadata": {},
   "source": [
    "## Project 2: CNN"
   ]
  },
  {
   "cell_type": "code",
   "execution_count": 1,
   "metadata": {},
   "outputs": [
    {
     "name": "stderr",
     "output_type": "stream",
     "text": [
      "Using TensorFlow backend.\n"
     ]
    }
   ],
   "source": [
    "%matplotlib inline\n",
    "import matplotlib.pyplot as plt\n",
    "\n",
    "import keras\n",
    "from keras.utils import to_categorical\n",
    "from keras.preprocessing.image import ImageDataGenerator\n",
    "from keras.models import Sequential, Model, load_model\n",
    "from keras.layers import Dense, Dropout, Activation, Flatten, Input, BatchNormalization\n",
    "from keras.layers import Conv2D, MaxPooling2D\n",
    "import keras.backend as K\n",
    "\n",
    "import tensorflow as tf\n",
    "\n",
    "import os\n",
    "import pickle\n",
    "import numpy as np\n",
    "from sklearn.model_selection import train_test_split"
   ]
  },
  {
   "cell_type": "code",
   "execution_count": 2,
   "metadata": {},
   "outputs": [
    {
     "name": "stdout",
     "output_type": "stream",
     "text": [
      "2.1.1\n",
      "1.3.0\n"
     ]
    }
   ],
   "source": [
    "print(keras.__version__)\n",
    "print(tf.__version__)"
   ]
  },
  {
   "cell_type": "markdown",
   "metadata": {},
   "source": [
    "### Step 1: Prepare & label dataset"
   ]
  },
  {
   "cell_type": "code",
   "execution_count": 3,
   "metadata": {
    "collapsed": true
   },
   "outputs": [],
   "source": [
    "num_examples_per_class = 10000\n",
    "num_classes = 100\n",
    "\n",
    "classes = ['airplane','alarm clock','ambulance','angel','ant','anvil','apple','axe','banana','bandage','barn','baseball bat','baseball',\n",
    "           'basket','basketball','bathtub','beach','bear','beard','bed','bee','belt','bicycle','binoculars','birthday cake','blueberry',\n",
    "           'book','boomerang','bottlecap','bowtie','bracelet','brain','bread','broom','bulldozer','bus','bus','butterfly','cactus','cake',\n",
    "           'calculator','calendar','camel','camera','campfire','candle','cannon','canoe','car','carrot','cello','computer',\n",
    "           'cat','chandelier','clock','cloud','coffee cup','compass','cookie','couch','cow','crab','crayon','crocodile','crown',\n",
    "           'cup','diamond','dog','dolphin','donut','dragon','dresser','drill','drums','duck','dumbbell','ear','elbow',\n",
    "           'elephant','envelope','eraser','eye','eyeglasses','face','fan','feather','fence','finger','fire hydrant',\n",
    "           'fireplace','firetruck','fish','flamingo','flashlight','flip flops','floor lamp','flower','flying saucer',\n",
    "           'foot','fork']\n",
    "\n",
    "x_data = np.load('./x_data_100_classes_10k.npy')\n",
    "labels = [np.full((num_examples_per_class,), classes.index(qdraw)) for qdraw in classes]\n",
    "y_data = np.concatenate(labels,axis=0)"
   ]
  },
  {
   "cell_type": "markdown",
   "metadata": {},
   "source": [
    "### Step 2: Let's take a look at one example"
   ]
  },
  {
   "cell_type": "code",
   "execution_count": 4,
   "metadata": {
    "collapsed": true
   },
   "outputs": [],
   "source": [
    "def show_object(obj):\n",
    "    # Reshape 784 array into 28x28 image\n",
    "    image = obj.reshape([28,28])\n",
    "    fig, axes = plt.subplots(1, )\n",
    "    fig.subplots_adjust(hspace=0.5, wspace=0.5)\n",
    "    plt.imshow(image, cmap='gray')\n",
    "    plt.show()"
   ]
  },
  {
   "cell_type": "code",
   "execution_count": 5,
   "metadata": {},
   "outputs": [
    {
     "data": {
      "image/png": "[encoded data removed]",
      "text/plain": [
       "<matplotlib.figure.Figure at 0x290907ac0f0>"
      ]
     },
     "metadata": {},
     "output_type": "display_data"
    },
    {
     "name": "stdout",
     "output_type": "stream",
     "text": [
      "The label of this data is: 6\n"
     ]
    }
   ],
   "source": [
    "show_object(x_data[66666])\n",
    "print('The label of this data is: %d' % y_data[66666])"
   ]
  },
  {
   "cell_type": "markdown",
   "metadata": {},
   "source": [
    "### Step 3: Shuffle & preprocessing dataset"
   ]
  },
  {
   "cell_type": "code",
   "execution_count": 6,
   "metadata": {
    "collapsed": true
   },
   "outputs": [],
   "source": [
    "# Shuffling function\n",
    "def unison_shuffled_copies(a, b):\n",
    "    assert len(a) == len(b)\n",
    "    p = np.random.permutation(len(a))\n",
    "    return a[p], b[p]"
   ]
  },
  {
   "cell_type": "code",
   "execution_count": 7,
   "metadata": {
    "collapsed": true
   },
   "outputs": [],
   "source": [
    "x_data,y_data = unison_shuffled_copies(x_data,y_data)"
   ]
  },
  {
   "cell_type": "code",
   "execution_count": 8,
   "metadata": {},
   "outputs": [
    {
     "name": "stdout",
     "output_type": "stream",
     "text": [
      "(600000, 28, 28, 1)\n",
      "(300000, 28, 28, 1)\n",
      "(100000, 28, 28, 1)\n"
     ]
    }
   ],
   "source": [
    "imcols = 28\n",
    "imrows = 28\n",
    "image_shape = (imrows, imcols, 1)\n",
    "\n",
    "# Preprocessing dataset\n",
    "x_train, x_rest, y_train, y_rest = train_test_split(x_data,y_data,test_size=0.4)\n",
    "x_validation, x_test, y_validation, y_test = train_test_split(x_rest,y_rest,test_size=0.25)\n",
    "\n",
    "x_train = x_train.astype('float32')\n",
    "x_validation = x_validation.astype('float32')\n",
    "x_test = x_test.astype('float32')\n",
    "x_train = x_train/255.0 # Normalize training data\n",
    "x_validation = x_validation/255.0 # Normalize validation data\n",
    "x_test = x_test/255.0 # Normalize testing data\n",
    "\n",
    "x_train = x_train.reshape(x_train.shape[0], imrows, imcols, 1)\n",
    "x_validation = x_validation.reshape(x_validation.shape[0], imrows, imcols, 1)\n",
    "x_test = x_test.reshape(x_test.shape[0], imrows, imcols, 1)\n",
    "y_train = keras.utils.to_categorical(y_train,num_classes)\n",
    "y_validation = keras.utils.to_categorical(y_validation,num_classes)\n",
    "y_test = keras.utils.to_categorical(y_test,num_classes)\n",
    "\n",
    "print(x_train.shape)\n",
    "print(x_validation.shape)\n",
    "print(x_test.shape)"
   ]
  },
  {
   "cell_type": "markdown",
   "metadata": {},
   "source": [
    "### Step 4: Setup the model"
   ]
  },
  {
   "cell_type": "code",
   "execution_count": 9,
   "metadata": {},
   "outputs": [
    {
     "name": "stdout",
     "output_type": "stream",
     "text": [
      "_________________________________________________________________\n",
      "Layer (type)                 Output Shape              Param #   \n",
      "=================================================================\n",
      "conv2d_1 (Conv2D)            (None, 28, 28, 20)        520       \n",
      "_________________________________________________________________\n",
      "max_pooling2d_1 (MaxPooling2 (None, 14, 14, 20)        0         \n",
      "_________________________________________________________________\n",
      "conv2d_2 (Conv2D)            (None, 14, 14, 50)        25050     \n",
      "_________________________________________________________________\n",
      "max_pooling2d_2 (MaxPooling2 (None, 7, 7, 50)          0         \n",
      "_________________________________________________________________\n",
      "flatten_1 (Flatten)          (None, 2450)              0         \n",
      "_________________________________________________________________\n",
      "dense_1 (Dense)              (None, 500)               1225500   \n",
      "_________________________________________________________________\n",
      "batch_normalization_1 (Batch (None, 500)               2000      \n",
      "_________________________________________________________________\n",
      "dropout_1 (Dropout)          (None, 500)               0         \n",
      "_________________________________________________________________\n",
      "dense_2 (Dense)              (None, 100)               50100     \n",
      "=================================================================\n",
      "Total params: 1,303,170\n",
      "Trainable params: 1,302,170\n",
      "Non-trainable params: 1,000\n",
      "_________________________________________________________________\n"
     ]
    }
   ],
   "source": [
    "model = Sequential()\n",
    "\n",
    "model.add(Conv2D(20,(5,5),input_shape=(image_shape),activation='relu',padding='same'))\n",
    "model.add(MaxPooling2D(pool_size=(2, 2)))\n",
    "model.add(Conv2D(50,(5,5),activation='relu',padding='same'))\n",
    "model.add(MaxPooling2D(pool_size=(2, 2)))\n",
    "model.add(Flatten())\n",
    "model.add(Dense(500,activation='relu'))\n",
    "model.add(BatchNormalization())\n",
    "model.add(Dropout(0.8))\n",
    "model.add(Dense(num_classes,activation='softmax'))\n",
    "\n",
    "# Define loss function & optimizer\n",
    "adam = keras.optimizers.Adam(lr=0.005,beta_1=0.9,beta_2=0.999,epsilon=1e-08,decay=0.01)\n",
    "model.compile(loss='categorical_crossentropy',optimizer=adam,metrics=['accuracy'])\n",
    "\n",
    "model.summary()"
   ]
  },
  {
   "cell_type": "markdown",
   "metadata": {},
   "source": [
    "### Step 5: Train the model"
   ]
  },
  {
   "cell_type": "code",
   "execution_count": 10,
   "metadata": {},
   "outputs": [
    {
     "name": "stdout",
     "output_type": "stream",
     "text": [
      "Train on 600000 samples, validate on 300000 samples\n",
      "Epoch 1/200\n",
      "600000/600000 [==============================] - 18s 29us/step - loss: 2.8984 - acc: 0.3217 - val_loss: 3.9625 - val_acc: 0.0717\n",
      "Epoch 2/200\n",
      "600000/600000 [==============================] - 14s 24us/step - loss: 2.0852 - acc: 0.4934 - val_loss: 3.3838 - val_acc: 0.2804\n",
      "Epoch 3/200\n",
      "600000/600000 [==============================] - 14s 23us/step - loss: 1.9201 - acc: 0.5336 - val_loss: 2.8891 - val_acc: 0.4737\n",
      "Epoch 4/200\n",
      "600000/600000 [==============================] - 14s 23us/step - loss: 1.8310 - acc: 0.5545 - val_loss: 2.3797 - val_acc: 0.5970\n",
      "Epoch 5/200\n",
      "600000/600000 [==============================] - 14s 23us/step - loss: 1.7712 - acc: 0.5698 - val_loss: 1.9646 - val_acc: 0.6473\n",
      "Epoch 6/200\n",
      "600000/600000 [==============================] - 14s 23us/step - loss: 1.7307 - acc: 0.5798 - val_loss: 1.6535 - val_acc: 0.6749\n",
      "Epoch 7/200\n",
      "600000/600000 [==============================] - 14s 24us/step - loss: 1.6995 - acc: 0.5884 - val_loss: 1.4342 - val_acc: 0.6917\n",
      "Epoch 8/200\n",
      "600000/600000 [==============================] - 14s 24us/step - loss: 1.6727 - acc: 0.5945 - val_loss: 1.3299 - val_acc: 0.6976\n",
      "Epoch 9/200\n",
      "600000/600000 [==============================] - 14s 24us/step - loss: 1.6509 - acc: 0.6002 - val_loss: 1.2558 - val_acc: 0.7043\n",
      "Epoch 10/200\n",
      "600000/600000 [==============================] - 14s 24us/step - loss: 1.6338 - acc: 0.6041 - val_loss: 1.2146 - val_acc: 0.7076\n",
      "Epoch 11/200\n",
      "600000/600000 [==============================] - 14s 24us/step - loss: 1.6198 - acc: 0.6089 - val_loss: 1.2005 - val_acc: 0.7073\n",
      "Epoch 12/200\n",
      "600000/600000 [==============================] - 14s 24us/step - loss: 1.6074 - acc: 0.6114 - val_loss: 1.1828 - val_acc: 0.7106\n",
      "Epoch 13/200\n",
      "600000/600000 [==============================] - 14s 24us/step - loss: 1.5977 - acc: 0.6137 - val_loss: 1.1704 - val_acc: 0.7124\n",
      "Epoch 14/200\n",
      "600000/600000 [==============================] - 14s 24us/step - loss: 1.5864 - acc: 0.6159 - val_loss: 1.1662 - val_acc: 0.7127\n",
      "Epoch 15/200\n",
      "600000/600000 [==============================] - 14s 24us/step - loss: 1.5791 - acc: 0.6181 - val_loss: 1.1573 - val_acc: 0.7151\n",
      "Epoch 16/200\n",
      "600000/600000 [==============================] - 14s 24us/step - loss: 1.5680 - acc: 0.6205 - val_loss: 1.1510 - val_acc: 0.7165\n",
      "Epoch 17/200\n",
      "600000/600000 [==============================] - 14s 24us/step - loss: 1.5657 - acc: 0.6213 - val_loss: 1.1432 - val_acc: 0.7175\n",
      "Epoch 18/200\n",
      "600000/600000 [==============================] - 14s 24us/step - loss: 1.5578 - acc: 0.6227 - val_loss: 1.1453 - val_acc: 0.7169\n",
      "Epoch 19/200\n",
      "600000/600000 [==============================] - 14s 24us/step - loss: 1.5522 - acc: 0.6250 - val_loss: 1.1332 - val_acc: 0.7198\n",
      "Epoch 20/200\n",
      "600000/600000 [==============================] - 14s 24us/step - loss: 1.5480 - acc: 0.6259 - val_loss: 1.1327 - val_acc: 0.7200\n",
      "Epoch 21/200\n",
      "600000/600000 [==============================] - 14s 24us/step - loss: 1.5399 - acc: 0.6275 - val_loss: 1.1274 - val_acc: 0.7211\n",
      "Epoch 22/200\n",
      "600000/600000 [==============================] - 14s 24us/step - loss: 1.5356 - acc: 0.6287 - val_loss: 1.1311 - val_acc: 0.7205\n",
      "Epoch 23/200\n",
      "600000/600000 [==============================] - 14s 24us/step - loss: 1.5315 - acc: 0.6299 - val_loss: 1.1295 - val_acc: 0.7210\n",
      "Epoch 24/200\n",
      "600000/600000 [==============================] - 14s 24us/step - loss: 1.5271 - acc: 0.6313 - val_loss: 1.1168 - val_acc: 0.7236\n",
      "Epoch 25/200\n",
      "600000/600000 [==============================] - 14s 24us/step - loss: 1.5248 - acc: 0.6312 - val_loss: 1.1164 - val_acc: 0.7237\n",
      "Epoch 26/200\n",
      "600000/600000 [==============================] - 14s 24us/step - loss: 1.5215 - acc: 0.6319 - val_loss: 1.1125 - val_acc: 0.7245\n",
      "Epoch 27/200\n",
      "600000/600000 [==============================] - 14s 24us/step - loss: 1.5179 - acc: 0.6324 - val_loss: 1.1111 - val_acc: 0.7246\n",
      "Epoch 28/200\n",
      "600000/600000 [==============================] - 14s 24us/step - loss: 1.5164 - acc: 0.6340 - val_loss: 1.1087 - val_acc: 0.7258\n",
      "Epoch 29/200\n",
      "600000/600000 [==============================] - 14s 24us/step - loss: 1.5115 - acc: 0.6344 - val_loss: 1.1077 - val_acc: 0.7261\n",
      "Epoch 30/200\n",
      "600000/600000 [==============================] - 14s 24us/step - loss: 1.5108 - acc: 0.6349 - val_loss: 1.1038 - val_acc: 0.7260\n",
      "Epoch 31/200\n",
      "600000/600000 [==============================] - 14s 24us/step - loss: 1.5076 - acc: 0.6357 - val_loss: 1.1055 - val_acc: 0.7253\n",
      "Epoch 32/200\n",
      "600000/600000 [==============================] - 14s 24us/step - loss: 1.5030 - acc: 0.6365 - val_loss: 1.1015 - val_acc: 0.7270\n",
      "Epoch 33/200\n",
      "600000/600000 [==============================] - 14s 24us/step - loss: 1.5008 - acc: 0.6371 - val_loss: 1.1025 - val_acc: 0.7264\n",
      "Epoch 34/200\n",
      "600000/600000 [==============================] - 14s 24us/step - loss: 1.5005 - acc: 0.6375 - val_loss: 1.0990 - val_acc: 0.7273\n",
      "Epoch 35/200\n",
      "600000/600000 [==============================] - 14s 24us/step - loss: 1.4967 - acc: 0.6383 - val_loss: 1.0985 - val_acc: 0.7281\n",
      "Epoch 36/200\n",
      "600000/600000 [==============================] - 14s 24us/step - loss: 1.4942 - acc: 0.6388 - val_loss: 1.0982 - val_acc: 0.7276\n",
      "Epoch 37/200\n",
      "600000/600000 [==============================] - 14s 24us/step - loss: 1.4926 - acc: 0.6388 - val_loss: 1.0968 - val_acc: 0.7284\n",
      "Epoch 38/200\n",
      "600000/600000 [==============================] - 14s 24us/step - loss: 1.4883 - acc: 0.6406 - val_loss: 1.0938 - val_acc: 0.7284\n",
      "Epoch 39/200\n",
      "600000/600000 [==============================] - 14s 24us/step - loss: 1.4893 - acc: 0.6402 - val_loss: 1.0929 - val_acc: 0.7288\n",
      "Epoch 40/200\n",
      "600000/600000 [==============================] - 14s 24us/step - loss: 1.4845 - acc: 0.6410 - val_loss: 1.0903 - val_acc: 0.7292\n",
      "Epoch 41/200\n",
      "600000/600000 [==============================] - 14s 24us/step - loss: 1.4833 - acc: 0.6412 - val_loss: 1.0884 - val_acc: 0.7299\n",
      "Epoch 42/200\n",
      "600000/600000 [==============================] - 14s 24us/step - loss: 1.4805 - acc: 0.6420 - val_loss: 1.0887 - val_acc: 0.7298\n",
      "Epoch 43/200\n",
      "600000/600000 [==============================] - 14s 24us/step - loss: 1.4778 - acc: 0.6425 - val_loss: 1.0879 - val_acc: 0.7301\n",
      "Epoch 44/200\n",
      "600000/600000 [==============================] - 14s 24us/step - loss: 1.4766 - acc: 0.6431 - val_loss: 1.0866 - val_acc: 0.7303\n",
      "Epoch 45/200\n",
      "600000/600000 [==============================] - 14s 24us/step - loss: 1.4781 - acc: 0.6423 - val_loss: 1.0848 - val_acc: 0.7306\n",
      "Epoch 46/200\n",
      "600000/600000 [==============================] - 14s 24us/step - loss: 1.4777 - acc: 0.6432 - val_loss: 1.0839 - val_acc: 0.7311\n",
      "Epoch 47/200\n",
      "600000/600000 [==============================] - 14s 24us/step - loss: 1.4742 - acc: 0.6436 - val_loss: 1.0837 - val_acc: 0.7308\n",
      "Epoch 48/200\n",
      "600000/600000 [==============================] - 14s 24us/step - loss: 1.4701 - acc: 0.6450 - val_loss: 1.0854 - val_acc: 0.7305\n",
      "Epoch 49/200\n",
      "600000/600000 [==============================] - 14s 24us/step - loss: 1.4725 - acc: 0.6440 - val_loss: 1.0804 - val_acc: 0.7312\n",
      "Epoch 50/200\n",
      "600000/600000 [==============================] - 14s 24us/step - loss: 1.4697 - acc: 0.6452 - val_loss: 1.0809 - val_acc: 0.7313\n",
      "Epoch 51/200\n",
      "600000/600000 [==============================] - 14s 24us/step - loss: 1.4674 - acc: 0.6457 - val_loss: 1.0792 - val_acc: 0.7317\n",
      "Epoch 52/200\n",
      "600000/600000 [==============================] - 14s 24us/step - loss: 1.4680 - acc: 0.6455 - val_loss: 1.0783 - val_acc: 0.7322\n",
      "Epoch 53/200\n",
      "600000/600000 [==============================] - 14s 24us/step - loss: 1.4645 - acc: 0.6466 - val_loss: 1.0784 - val_acc: 0.7320\n",
      "Epoch 54/200\n",
      "600000/600000 [==============================] - 14s 24us/step - loss: 1.4637 - acc: 0.6461 - val_loss: 1.0770 - val_acc: 0.7320\n",
      "Epoch 55/200\n",
      "600000/600000 [==============================] - 14s 24us/step - loss: 1.4629 - acc: 0.6464 - val_loss: 1.0763 - val_acc: 0.7327\n",
      "Epoch 56/200\n",
      "600000/600000 [==============================] - 14s 24us/step - loss: 1.4620 - acc: 0.6469 - val_loss: 1.0752 - val_acc: 0.7323\n",
      "Epoch 57/200\n",
      "600000/600000 [==============================] - 14s 24us/step - loss: 1.4624 - acc: 0.6462 - val_loss: 1.0764 - val_acc: 0.7323\n",
      "Epoch 58/200\n"
     ]
    },
    {
     "name": "stdout",
     "output_type": "stream",
     "text": [
      "600000/600000 [==============================] - 14s 23us/step - loss: 1.4600 - acc: 0.6468 - val_loss: 1.0738 - val_acc: 0.7329\n",
      "Epoch 59/200\n",
      "600000/600000 [==============================] - 14s 23us/step - loss: 1.4584 - acc: 0.6475 - val_loss: 1.0741 - val_acc: 0.7332\n",
      "Epoch 60/200\n",
      "600000/600000 [==============================] - 14s 23us/step - loss: 1.4576 - acc: 0.6485 - val_loss: 1.0731 - val_acc: 0.7332\n",
      "Epoch 61/200\n",
      "600000/600000 [==============================] - 14s 23us/step - loss: 1.4574 - acc: 0.6478 - val_loss: 1.0717 - val_acc: 0.7332\n",
      "Epoch 62/200\n",
      "600000/600000 [==============================] - 14s 24us/step - loss: 1.4541 - acc: 0.6492 - val_loss: 1.0721 - val_acc: 0.7330\n",
      "Epoch 63/200\n",
      "600000/600000 [==============================] - 14s 23us/step - loss: 1.4526 - acc: 0.6487 - val_loss: 1.0718 - val_acc: 0.7336\n",
      "Epoch 64/200\n",
      "600000/600000 [==============================] - 14s 24us/step - loss: 1.4519 - acc: 0.6486 - val_loss: 1.0699 - val_acc: 0.7338\n",
      "Epoch 65/200\n",
      "600000/600000 [==============================] - 14s 23us/step - loss: 1.4503 - acc: 0.6489 - val_loss: 1.0698 - val_acc: 0.7339\n",
      "Epoch 66/200\n",
      "600000/600000 [==============================] - 14s 23us/step - loss: 1.4498 - acc: 0.6492 - val_loss: 1.0701 - val_acc: 0.7341\n",
      "Epoch 67/200\n",
      "600000/600000 [==============================] - 14s 24us/step - loss: 1.4499 - acc: 0.6494 - val_loss: 1.0698 - val_acc: 0.7340\n",
      "Epoch 68/200\n",
      "600000/600000 [==============================] - 14s 23us/step - loss: 1.4476 - acc: 0.6497 - val_loss: 1.0678 - val_acc: 0.7340\n",
      "Epoch 69/200\n",
      "600000/600000 [==============================] - 14s 23us/step - loss: 1.4480 - acc: 0.6499 - val_loss: 1.0694 - val_acc: 0.7339\n",
      "Epoch 70/200\n",
      "600000/600000 [==============================] - 14s 24us/step - loss: 1.4469 - acc: 0.6501 - val_loss: 1.0668 - val_acc: 0.7343\n",
      "Epoch 71/200\n",
      "600000/600000 [==============================] - 14s 23us/step - loss: 1.4473 - acc: 0.6502 - val_loss: 1.0664 - val_acc: 0.7346\n",
      "Epoch 72/200\n",
      "600000/600000 [==============================] - 14s 24us/step - loss: 1.4453 - acc: 0.6511 - val_loss: 1.0674 - val_acc: 0.7342\n",
      "Epoch 73/200\n",
      "600000/600000 [==============================] - 14s 23us/step - loss: 1.4460 - acc: 0.6513 - val_loss: 1.0653 - val_acc: 0.7350\n",
      "Epoch 74/200\n",
      "600000/600000 [==============================] - 14s 23us/step - loss: 1.4456 - acc: 0.6504 - val_loss: 1.0655 - val_acc: 0.7351\n",
      "Epoch 75/200\n",
      "600000/600000 [==============================] - 14s 23us/step - loss: 1.4431 - acc: 0.6511 - val_loss: 1.0652 - val_acc: 0.7353\n",
      "Epoch 76/200\n",
      "600000/600000 [==============================] - 14s 23us/step - loss: 1.4439 - acc: 0.6510 - val_loss: 1.0656 - val_acc: 0.7345\n",
      "Epoch 77/200\n",
      "600000/600000 [==============================] - 14s 23us/step - loss: 1.4394 - acc: 0.6518 - val_loss: 1.0639 - val_acc: 0.7352\n",
      "Epoch 78/200\n",
      "600000/600000 [==============================] - 14s 24us/step - loss: 1.4406 - acc: 0.6519 - val_loss: 1.0635 - val_acc: 0.7354\n",
      "Epoch 79/200\n",
      "600000/600000 [==============================] - 14s 23us/step - loss: 1.4383 - acc: 0.6525 - val_loss: 1.0635 - val_acc: 0.7353\n",
      "Epoch 80/200\n",
      "600000/600000 [==============================] - 14s 23us/step - loss: 1.4404 - acc: 0.6519 - val_loss: 1.0630 - val_acc: 0.7354\n",
      "Epoch 81/200\n",
      "600000/600000 [==============================] - 14s 24us/step - loss: 1.4387 - acc: 0.6518 - val_loss: 1.0632 - val_acc: 0.7357\n",
      "Epoch 82/200\n",
      "600000/600000 [==============================] - 14s 23us/step - loss: 1.4393 - acc: 0.6518 - val_loss: 1.0622 - val_acc: 0.7356\n",
      "Epoch 83/200\n",
      "600000/600000 [==============================] - 14s 23us/step - loss: 1.4373 - acc: 0.6531 - val_loss: 1.0611 - val_acc: 0.7358\n",
      "Epoch 84/200\n",
      "600000/600000 [==============================] - 14s 23us/step - loss: 1.4361 - acc: 0.6523 - val_loss: 1.0612 - val_acc: 0.7361\n",
      "Epoch 85/200\n",
      "600000/600000 [==============================] - 14s 23us/step - loss: 1.4382 - acc: 0.6517 - val_loss: 1.0608 - val_acc: 0.7355\n",
      "Epoch 86/200\n",
      "600000/600000 [==============================] - 14s 23us/step - loss: 1.4358 - acc: 0.6528 - val_loss: 1.0609 - val_acc: 0.7359\n",
      "Epoch 87/200\n",
      "600000/600000 [==============================] - 14s 24us/step - loss: 1.4364 - acc: 0.6526 - val_loss: 1.0603 - val_acc: 0.7360\n",
      "Epoch 88/200\n",
      "600000/600000 [==============================] - 14s 23us/step - loss: 1.4369 - acc: 0.6523 - val_loss: 1.0604 - val_acc: 0.7359\n",
      "Epoch 89/200\n",
      "600000/600000 [==============================] - 14s 23us/step - loss: 1.4346 - acc: 0.6533 - val_loss: 1.0585 - val_acc: 0.7363\n",
      "Epoch 90/200\n",
      "600000/600000 [==============================] - 14s 24us/step - loss: 1.4321 - acc: 0.6534 - val_loss: 1.0591 - val_acc: 0.7362\n",
      "Epoch 91/200\n",
      "600000/600000 [==============================] - 14s 24us/step - loss: 1.4332 - acc: 0.6528 - val_loss: 1.0583 - val_acc: 0.7361\n",
      "Epoch 92/200\n",
      "600000/600000 [==============================] - 14s 24us/step - loss: 1.4340 - acc: 0.6530 - val_loss: 1.0590 - val_acc: 0.7365loss: 1.4361  - ETA: 2s - loss: 1.4337 -\n",
      "Epoch 93/200\n",
      "600000/600000 [==============================] - 14s 24us/step - loss: 1.4336 - acc: 0.6534 - val_loss: 1.0581 - val_acc: 0.7367\n",
      "Epoch 94/200\n",
      "600000/600000 [==============================] - 14s 24us/step - loss: 1.4308 - acc: 0.6542 - val_loss: 1.0578 - val_acc: 0.7364\n",
      "Epoch 95/200\n",
      "600000/600000 [==============================] - 14s 24us/step - loss: 1.4284 - acc: 0.6544 - val_loss: 1.0571 - val_acc: 0.7366\n",
      "Epoch 96/200\n",
      "600000/600000 [==============================] - 14s 24us/step - loss: 1.4295 - acc: 0.6541 - val_loss: 1.0569 - val_acc: 0.7364\n",
      "Epoch 97/200\n",
      "600000/600000 [==============================] - 14s 24us/step - loss: 1.4286 - acc: 0.6544 - val_loss: 1.0583 - val_acc: 0.7366\n",
      "Epoch 98/200\n",
      "600000/600000 [==============================] - 14s 24us/step - loss: 1.4284 - acc: 0.6550 - val_loss: 1.0568 - val_acc: 0.7365\n",
      "Epoch 99/200\n",
      "600000/600000 [==============================] - 14s 23us/step - loss: 1.4297 - acc: 0.6544 - val_loss: 1.0564 - val_acc: 0.7368\n",
      "Epoch 100/200\n",
      "600000/600000 [==============================] - 14s 23us/step - loss: 1.4289 - acc: 0.6549 - val_loss: 1.0562 - val_acc: 0.7369\n",
      "Epoch 101/200\n",
      "600000/600000 [==============================] - 14s 23us/step - loss: 1.4285 - acc: 0.6546 - val_loss: 1.0557 - val_acc: 0.7370\n",
      "Epoch 102/200\n",
      "600000/600000 [==============================] - 14s 23us/step - loss: 1.4276 - acc: 0.6545 - val_loss: 1.0555 - val_acc: 0.7373\n",
      "Epoch 103/200\n",
      "600000/600000 [==============================] - 14s 23us/step - loss: 1.4269 - acc: 0.6556 - val_loss: 1.0551 - val_acc: 0.7374\n",
      "Epoch 104/200\n",
      "600000/600000 [==============================] - 14s 23us/step - loss: 1.4266 - acc: 0.6547 - val_loss: 1.0546 - val_acc: 0.7372\n",
      "Epoch 105/200\n",
      "600000/600000 [==============================] - 14s 23us/step - loss: 1.4271 - acc: 0.6553 - val_loss: 1.0539 - val_acc: 0.7371\n",
      "Epoch 106/200\n",
      "600000/600000 [==============================] - 14s 23us/step - loss: 1.4251 - acc: 0.6554 - val_loss: 1.0536 - val_acc: 0.7373\n",
      "Epoch 107/200\n",
      "600000/600000 [==============================] - 14s 23us/step - loss: 1.4240 - acc: 0.6558 - val_loss: 1.0533 - val_acc: 0.7376\n",
      "Epoch 108/200\n",
      "600000/600000 [==============================] - 14s 23us/step - loss: 1.4233 - acc: 0.6556 - val_loss: 1.0537 - val_acc: 0.7375\n",
      "Epoch 109/200\n",
      "600000/600000 [==============================] - 14s 23us/step - loss: 1.4230 - acc: 0.6559 - val_loss: 1.0536 - val_acc: 0.7375\n",
      "Epoch 110/200\n",
      "600000/600000 [==============================] - 14s 24us/step - loss: 1.4234 - acc: 0.6556 - val_loss: 1.0521 - val_acc: 0.7377\n",
      "Epoch 111/200\n",
      "600000/600000 [==============================] - 14s 23us/step - loss: 1.4230 - acc: 0.6557 - val_loss: 1.0528 - val_acc: 0.7376\n",
      "Epoch 112/200\n",
      "600000/600000 [==============================] - 14s 23us/step - loss: 1.4221 - acc: 0.6560 - val_loss: 1.0525 - val_acc: 0.7380\n",
      "Epoch 113/200\n",
      "600000/600000 [==============================] - 14s 23us/step - loss: 1.4213 - acc: 0.6561 - val_loss: 1.0520 - val_acc: 0.7377\n",
      "Epoch 114/200\n",
      "600000/600000 [==============================] - 14s 23us/step - loss: 1.4204 - acc: 0.6559 - val_loss: 1.0513 - val_acc: 0.7380\n",
      "Epoch 115/200\n"
     ]
    },
    {
     "name": "stdout",
     "output_type": "stream",
     "text": [
      "600000/600000 [==============================] - 14s 23us/step - loss: 1.4206 - acc: 0.6566 - val_loss: 1.0517 - val_acc: 0.7377\n",
      "Epoch 116/200\n",
      "600000/600000 [==============================] - 14s 23us/step - loss: 1.4223 - acc: 0.6558 - val_loss: 1.0511 - val_acc: 0.7380\n",
      "Epoch 117/200\n",
      "600000/600000 [==============================] - 14s 23us/step - loss: 1.4195 - acc: 0.6569 - val_loss: 1.0510 - val_acc: 0.7381\n",
      "Epoch 118/200\n",
      "600000/600000 [==============================] - 14s 23us/step - loss: 1.4213 - acc: 0.6558 - val_loss: 1.0510 - val_acc: 0.7381\n",
      "Epoch 119/200\n",
      "600000/600000 [==============================] - 14s 23us/step - loss: 1.4191 - acc: 0.6562 - val_loss: 1.0506 - val_acc: 0.7380\n",
      "Epoch 120/200\n",
      "600000/600000 [==============================] - 14s 23us/step - loss: 1.4213 - acc: 0.6560 - val_loss: 1.0507 - val_acc: 0.7377\n",
      "Epoch 121/200\n",
      "600000/600000 [==============================] - 14s 24us/step - loss: 1.4199 - acc: 0.6560 - val_loss: 1.0499 - val_acc: 0.7382\n",
      "Epoch 122/200\n",
      "600000/600000 [==============================] - 14s 24us/step - loss: 1.4185 - acc: 0.6565 - val_loss: 1.0514 - val_acc: 0.7378\n",
      "Epoch 123/200\n",
      "600000/600000 [==============================] - 14s 23us/step - loss: 1.4180 - acc: 0.6573 - val_loss: 1.0503 - val_acc: 0.7381\n",
      "Epoch 124/200\n",
      "600000/600000 [==============================] - 14s 23us/step - loss: 1.4167 - acc: 0.6569 - val_loss: 1.0495 - val_acc: 0.7381\n",
      "Epoch 125/200\n",
      "600000/600000 [==============================] - 14s 24us/step - loss: 1.4168 - acc: 0.6571 - val_loss: 1.0491 - val_acc: 0.7383\n",
      "Epoch 126/200\n",
      "600000/600000 [==============================] - 14s 23us/step - loss: 1.4170 - acc: 0.6570 - val_loss: 1.0488 - val_acc: 0.7385\n",
      "Epoch 127/200\n",
      "600000/600000 [==============================] - 14s 23us/step - loss: 1.4171 - acc: 0.6580 - val_loss: 1.0490 - val_acc: 0.7385\n",
      "Epoch 128/200\n",
      "600000/600000 [==============================] - 14s 23us/step - loss: 1.4138 - acc: 0.6582 - val_loss: 1.0483 - val_acc: 0.7387\n",
      "Epoch 129/200\n",
      "600000/600000 [==============================] - 14s 23us/step - loss: 1.4152 - acc: 0.6574 - val_loss: 1.0489 - val_acc: 0.7384\n",
      "Epoch 130/200\n",
      "600000/600000 [==============================] - 14s 23us/step - loss: 1.4159 - acc: 0.6571 - val_loss: 1.0479 - val_acc: 0.7386\n",
      "Epoch 131/200\n",
      "600000/600000 [==============================] - 14s 23us/step - loss: 1.4140 - acc: 0.6580 - val_loss: 1.0483 - val_acc: 0.7388\n",
      "Epoch 132/200\n",
      "600000/600000 [==============================] - 14s 23us/step - loss: 1.4151 - acc: 0.6582 - val_loss: 1.0478 - val_acc: 0.7387\n",
      "Epoch 133/200\n",
      "600000/600000 [==============================] - 14s 23us/step - loss: 1.4130 - acc: 0.6583 - val_loss: 1.0478 - val_acc: 0.7387\n",
      "Epoch 134/200\n",
      "600000/600000 [==============================] - 14s 23us/step - loss: 1.4140 - acc: 0.6583 - val_loss: 1.0468 - val_acc: 0.7390\n",
      "Epoch 135/200\n",
      "600000/600000 [==============================] - 14s 23us/step - loss: 1.4148 - acc: 0.6581 - val_loss: 1.0467 - val_acc: 0.7390\n",
      "Epoch 136/200\n",
      "600000/600000 [==============================] - 14s 23us/step - loss: 1.4126 - acc: 0.6585 - val_loss: 1.0465 - val_acc: 0.7389\n",
      "Epoch 137/200\n",
      "600000/600000 [==============================] - 14s 23us/step - loss: 1.4131 - acc: 0.6590 - val_loss: 1.0465 - val_acc: 0.7392\n",
      "Epoch 138/200\n",
      "600000/600000 [==============================] - 14s 23us/step - loss: 1.4104 - acc: 0.6588 - val_loss: 1.0464 - val_acc: 0.7390\n",
      "Epoch 139/200\n",
      "600000/600000 [==============================] - 14s 23us/step - loss: 1.4107 - acc: 0.6586 - val_loss: 1.0464 - val_acc: 0.7392\n",
      "Epoch 140/200\n",
      "600000/600000 [==============================] - 14s 23us/step - loss: 1.4097 - acc: 0.6592 - val_loss: 1.0463 - val_acc: 0.7393\n",
      "Epoch 141/200\n",
      "600000/600000 [==============================] - 14s 23us/step - loss: 1.4117 - acc: 0.6586 - val_loss: 1.0463 - val_acc: 0.7390\n",
      "Epoch 142/200\n",
      "600000/600000 [==============================] - 14s 23us/step - loss: 1.4087 - acc: 0.6588 - val_loss: 1.0453 - val_acc: 0.7392\n",
      "Epoch 143/200\n",
      "600000/600000 [==============================] - 14s 24us/step - loss: 1.4100 - acc: 0.6585 - val_loss: 1.0455 - val_acc: 0.7391\n",
      "Epoch 144/200\n",
      "600000/600000 [==============================] - 14s 24us/step - loss: 1.4096 - acc: 0.6597 - val_loss: 1.0448 - val_acc: 0.7393\n",
      "Epoch 145/200\n",
      "600000/600000 [==============================] - 14s 23us/step - loss: 1.4097 - acc: 0.6586 - val_loss: 1.0455 - val_acc: 0.7393\n",
      "Epoch 146/200\n",
      "600000/600000 [==============================] - 14s 23us/step - loss: 1.4078 - acc: 0.6597 - val_loss: 1.0464 - val_acc: 0.7389\n",
      "Epoch 147/200\n",
      "600000/600000 [==============================] - 14s 23us/step - loss: 1.4088 - acc: 0.6590 - val_loss: 1.0446 - val_acc: 0.7392\n",
      "Epoch 148/200\n",
      "600000/600000 [==============================] - 14s 23us/step - loss: 1.4094 - acc: 0.6589 - val_loss: 1.0445 - val_acc: 0.7393\n",
      "Epoch 149/200\n",
      "600000/600000 [==============================] - 14s 23us/step - loss: 1.4073 - acc: 0.6591 - val_loss: 1.0442 - val_acc: 0.7394\n",
      "Epoch 150/200\n",
      "600000/600000 [==============================] - 14s 23us/step - loss: 1.4072 - acc: 0.6598 - val_loss: 1.0446 - val_acc: 0.7394\n",
      "Epoch 151/200\n",
      "600000/600000 [==============================] - 14s 24us/step - loss: 1.4066 - acc: 0.6599 - val_loss: 1.0437 - val_acc: 0.7392\n",
      "Epoch 152/200\n",
      "600000/600000 [==============================] - 14s 23us/step - loss: 1.4066 - acc: 0.6605 - val_loss: 1.0445 - val_acc: 0.7396\n",
      "Epoch 153/200\n",
      "600000/600000 [==============================] - 14s 24us/step - loss: 1.4091 - acc: 0.6593 - val_loss: 1.0440 - val_acc: 0.7397\n",
      "Epoch 154/200\n",
      "600000/600000 [==============================] - 14s 23us/step - loss: 1.4069 - acc: 0.6599 - val_loss: 1.0436 - val_acc: 0.7394\n",
      "Epoch 155/200\n",
      "600000/600000 [==============================] - 14s 24us/step - loss: 1.4056 - acc: 0.6603 - val_loss: 1.0436 - val_acc: 0.7395\n",
      "Epoch 156/200\n",
      "600000/600000 [==============================] - 14s 23us/step - loss: 1.4045 - acc: 0.6608 - val_loss: 1.0428 - val_acc: 0.7396\n",
      "Epoch 157/200\n",
      "600000/600000 [==============================] - 14s 23us/step - loss: 1.4064 - acc: 0.6596 - val_loss: 1.0428 - val_acc: 0.7399\n",
      "Epoch 158/200\n",
      "600000/600000 [==============================] - 14s 23us/step - loss: 1.4046 - acc: 0.6601 - val_loss: 1.0432 - val_acc: 0.7398\n",
      "Epoch 159/200\n",
      "600000/600000 [==============================] - 14s 24us/step - loss: 1.4055 - acc: 0.6607 - val_loss: 1.0426 - val_acc: 0.7397\n",
      "Epoch 160/200\n",
      "600000/600000 [==============================] - 14s 24us/step - loss: 1.4083 - acc: 0.6596 - val_loss: 1.0428 - val_acc: 0.7399\n",
      "Epoch 161/200\n",
      "600000/600000 [==============================] - 14s 23us/step - loss: 1.4051 - acc: 0.6599 - val_loss: 1.0423 - val_acc: 0.7398\n",
      "Epoch 162/200\n",
      "600000/600000 [==============================] - 14s 23us/step - loss: 1.4038 - acc: 0.6603 - val_loss: 1.0432 - val_acc: 0.7397\n",
      "Epoch 163/200\n",
      "600000/600000 [==============================] - 14s 23us/step - loss: 1.4024 - acc: 0.6605 - val_loss: 1.0418 - val_acc: 0.7401\n",
      "Epoch 164/200\n",
      "600000/600000 [==============================] - 14s 24us/step - loss: 1.4039 - acc: 0.6601 - val_loss: 1.0418 - val_acc: 0.7400\n",
      "Epoch 165/200\n",
      "600000/600000 [==============================] - 14s 24us/step - loss: 1.4022 - acc: 0.6605 - val_loss: 1.0421 - val_acc: 0.7401\n",
      "Epoch 166/200\n",
      "600000/600000 [==============================] - 14s 24us/step - loss: 1.4027 - acc: 0.6606 - val_loss: 1.0423 - val_acc: 0.7402\n",
      "Epoch 167/200\n",
      "600000/600000 [==============================] - 14s 23us/step - loss: 1.4034 - acc: 0.6606 - val_loss: 1.0410 - val_acc: 0.7403\n",
      "Epoch 168/200\n",
      "600000/600000 [==============================] - 14s 23us/step - loss: 1.4026 - acc: 0.6610 - val_loss: 1.0410 - val_acc: 0.7403\n",
      "Epoch 169/200\n",
      "600000/600000 [==============================] - 14s 23us/step - loss: 1.4021 - acc: 0.6610 - val_loss: 1.0414 - val_acc: 0.7401\n",
      "Epoch 170/200\n",
      "600000/600000 [==============================] - 14s 23us/step - loss: 1.4016 - acc: 0.6612 - val_loss: 1.0412 - val_acc: 0.7404\n",
      "Epoch 171/200\n",
      "600000/600000 [==============================] - 14s 23us/step - loss: 1.4035 - acc: 0.6607 - val_loss: 1.0409 - val_acc: 0.7402\n",
      "Epoch 172/200\n"
     ]
    },
    {
     "name": "stdout",
     "output_type": "stream",
     "text": [
      "600000/600000 [==============================] - 14s 23us/step - loss: 1.4032 - acc: 0.6603 - val_loss: 1.0405 - val_acc: 0.7403\n",
      "Epoch 173/200\n",
      "600000/600000 [==============================] - 14s 23us/step - loss: 1.4023 - acc: 0.6602 - val_loss: 1.0404 - val_acc: 0.7405\n",
      "Epoch 174/200\n",
      "600000/600000 [==============================] - 14s 24us/step - loss: 1.4029 - acc: 0.6612 - val_loss: 1.0406 - val_acc: 0.7404\n",
      "Epoch 175/200\n",
      "600000/600000 [==============================] - 14s 23us/step - loss: 1.3993 - acc: 0.6614 - val_loss: 1.0405 - val_acc: 0.7406\n",
      "Epoch 176/200\n",
      "600000/600000 [==============================] - 14s 23us/step - loss: 1.4010 - acc: 0.6606 - val_loss: 1.0397 - val_acc: 0.7405\n",
      "Epoch 177/200\n",
      "600000/600000 [==============================] - 14s 24us/step - loss: 1.4001 - acc: 0.6618 - val_loss: 1.0401 - val_acc: 0.7406\n",
      "Epoch 178/200\n",
      "600000/600000 [==============================] - 14s 23us/step - loss: 1.4022 - acc: 0.6618 - val_loss: 1.0400 - val_acc: 0.7404\n",
      "Epoch 179/200\n",
      "600000/600000 [==============================] - 14s 23us/step - loss: 1.3995 - acc: 0.6614 - val_loss: 1.0401 - val_acc: 0.7405\n",
      "Epoch 180/200\n",
      "600000/600000 [==============================] - 14s 23us/step - loss: 1.4014 - acc: 0.6612 - val_loss: 1.0396 - val_acc: 0.7405\n",
      "Epoch 181/200\n",
      "600000/600000 [==============================] - 14s 23us/step - loss: 1.3994 - acc: 0.6608 - val_loss: 1.0396 - val_acc: 0.7407\n",
      "Epoch 182/200\n",
      "600000/600000 [==============================] - 14s 23us/step - loss: 1.3998 - acc: 0.6616 - val_loss: 1.0396 - val_acc: 0.7407\n",
      "Epoch 183/200\n",
      "600000/600000 [==============================] - 14s 23us/step - loss: 1.3994 - acc: 0.6614 - val_loss: 1.0394 - val_acc: 0.7405\n",
      "Epoch 184/200\n",
      "600000/600000 [==============================] - 14s 23us/step - loss: 1.4009 - acc: 0.6608 - val_loss: 1.0394 - val_acc: 0.7405\n",
      "Epoch 185/200\n",
      "600000/600000 [==============================] - 14s 23us/step - loss: 1.3976 - acc: 0.6614 - val_loss: 1.0391 - val_acc: 0.7406\n",
      "Epoch 186/200\n",
      "600000/600000 [==============================] - 14s 23us/step - loss: 1.3968 - acc: 0.6622 - val_loss: 1.0387 - val_acc: 0.7406\n",
      "Epoch 187/200\n",
      "600000/600000 [==============================] - 14s 23us/step - loss: 1.3998 - acc: 0.6612 - val_loss: 1.0390 - val_acc: 0.7408\n",
      "Epoch 188/200\n",
      "600000/600000 [==============================] - 14s 23us/step - loss: 1.3987 - acc: 0.6619 - val_loss: 1.0387 - val_acc: 0.7406\n",
      "Epoch 189/200\n",
      "600000/600000 [==============================] - 14s 23us/step - loss: 1.3962 - acc: 0.6619 - val_loss: 1.0381 - val_acc: 0.7407\n",
      "Epoch 190/200\n",
      "600000/600000 [==============================] - 14s 23us/step - loss: 1.3973 - acc: 0.6628 - val_loss: 1.0381 - val_acc: 0.7407\n",
      "Epoch 191/200\n",
      "600000/600000 [==============================] - 14s 23us/step - loss: 1.3968 - acc: 0.6628 - val_loss: 1.0379 - val_acc: 0.7409\n",
      "Epoch 192/200\n",
      "600000/600000 [==============================] - 14s 23us/step - loss: 1.3966 - acc: 0.6617 - val_loss: 1.0379 - val_acc: 0.7406\n",
      "Epoch 193/200\n",
      "600000/600000 [==============================] - 14s 23us/step - loss: 1.3984 - acc: 0.6621 - val_loss: 1.0375 - val_acc: 0.7408\n",
      "Epoch 194/200\n",
      "600000/600000 [==============================] - 14s 23us/step - loss: 1.3954 - acc: 0.6624 - val_loss: 1.0378 - val_acc: 0.7410\n",
      "Epoch 195/200\n",
      "600000/600000 [==============================] - 14s 23us/step - loss: 1.3963 - acc: 0.6620 - val_loss: 1.0376 - val_acc: 0.7410\n",
      "Epoch 196/200\n",
      "600000/600000 [==============================] - 14s 23us/step - loss: 1.3972 - acc: 0.6626 - val_loss: 1.0373 - val_acc: 0.7408\n",
      "Epoch 197/200\n",
      "600000/600000 [==============================] - 14s 23us/step - loss: 1.3951 - acc: 0.6624 - val_loss: 1.0381 - val_acc: 0.7411\n",
      "Epoch 198/200\n",
      "600000/600000 [==============================] - 14s 23us/step - loss: 1.3947 - acc: 0.6630 - val_loss: 1.0378 - val_acc: 0.7410\n",
      "Epoch 199/200\n",
      "600000/600000 [==============================] - 14s 23us/step - loss: 1.3951 - acc: 0.6625 - val_loss: 1.0377 - val_acc: 0.7411\n",
      "Epoch 200/200\n",
      "600000/600000 [==============================] - 14s 23us/step - loss: 1.3950 - acc: 0.6621 - val_loss: 1.0370 - val_acc: 0.7412\n"
     ]
    }
   ],
   "source": [
    "batch_sizes = 10000\n",
    "epochs = 200\n",
    "\n",
    "history = model.fit(x_train,y_train,batch_size=batch_sizes,epochs=epochs,verbose=1,validation_data=(x_validation, y_validation))"
   ]
  },
  {
   "cell_type": "markdown",
   "metadata": {},
   "source": [
    "### Step 6: Visualize train process"
   ]
  },
  {
   "cell_type": "code",
   "execution_count": 11,
   "metadata": {
    "collapsed": true
   },
   "outputs": [],
   "source": [
    "def plot_train(hist):\n",
    "    h = hist.history\n",
    "    if 'acc' in h:\n",
    "        meas='acc'\n",
    "        loc='lower right'\n",
    "    else:\n",
    "        meas='loss'\n",
    "        loc='upper right'\n",
    "    plt.plot(hist.history[meas])\n",
    "    plt.plot(hist.history['val_'+meas])\n",
    "    plt.title('model '+meas)\n",
    "    plt.ylabel(meas)\n",
    "    plt.xlabel('epoch')\n",
    "    plt.legend(['train', 'validation'], loc=loc)"
   ]
  },
  {
   "cell_type": "code",
   "execution_count": 12,
   "metadata": {},
   "outputs": [
    {
     "data": {
      "image/png": "[encoded data removed]",
      "text/plain": [
       "<matplotlib.figure.Figure at 0x290c28e2710>"
      ]
     },
     "metadata": {},
     "output_type": "display_data"
    }
   ],
   "source": [
    "plot_train(history)"
   ]
  },
  {
   "cell_type": "markdown",
   "metadata": {},
   "source": [
    "### Step 7: Evaluate & save the model"
   ]
  },
  {
   "cell_type": "code",
   "execution_count": 14,
   "metadata": {},
   "outputs": [
    {
     "name": "stdout",
     "output_type": "stream",
     "text": [
      "300000/300000 [==============================] - 19s 62us/step\n",
      "Validation Accuracy =  0.741186666667\n",
      "Validation Loss =  1.03703028741\n"
     ]
    }
   ],
   "source": [
    "score = model.evaluate(x_validation,y_validation,verbose=1)\n",
    "\n",
    "print(\"Validation Accuracy = \", score[1])\n",
    "print(\"Validation Loss = \", score[0])\n",
    "\n",
    "model.save('model.h5')"
   ]
  },
  {
   "cell_type": "markdown",
   "metadata": {
    "collapsed": true
   },
   "source": [
    "### Step 8: Let's make some predictions"
   ]
  },
  {
   "cell_type": "code",
   "execution_count": 23,
   "metadata": {},
   "outputs": [
    {
     "name": "stdout",
     "output_type": "stream",
     "text": [
      "Test Accuracy: 74.128 %\n"
     ]
    }
   ],
   "source": [
    "result = model.predict(x_test)\n",
    "count = 0\n",
    "correct = 0\n",
    "\n",
    "for r in result:\n",
    "    idx = np.argmax(r)\n",
    "    gt = np.argmax(y_test[count])\n",
    "    if idx == gt:\n",
    "        correct = correct + 1\n",
    "    count = count + 1\n",
    "\n",
    "print('Test Accuracy:', correct/count*100,'%')"
   ]
  },
  {
   "cell_type": "code",
   "execution_count": 27,
   "metadata": {},
   "outputs": [
    {
     "data": {
      "image/png": "[encoded data removed]",
      "text/plain": [
       "<matplotlib.figure.Figure at 0x290c2bc6550>"
      ]
     },
     "metadata": {},
     "output_type": "display_data"
    },
    {
     "name": "stdout",
     "output_type": "stream",
     "text": [
      "The label index of this data is: 83 -- face\n"
     ]
    }
   ],
   "source": [
    "show_object(x_test[666])\n",
    "print('The label index of this data is: %d' % np.argmax(y_test[666]),'--',classes[np.argmax(y_test[666])])"
   ]
  },
  {
   "cell_type": "code",
   "execution_count": null,
   "metadata": {
    "collapsed": true
   },
   "outputs": [],
   "source": []
  }
 ],
 "metadata": {
  "kernelspec": {
   "display_name": "Python 3",
   "language": "python",
   "name": "python3"
  },
  "language_info": {
   "codemirror_mode": {
    "name": "ipython",
    "version": 3
   },
   "file_extension": ".py",
   "mimetype": "text/x-python",
   "name": "python",
   "nbconvert_exporter": "python",
   "pygments_lexer": "ipython3",
   "version": "3.6.1"
  }
 },
 "nbformat": 4,
 "nbformat_minor": 2
}
